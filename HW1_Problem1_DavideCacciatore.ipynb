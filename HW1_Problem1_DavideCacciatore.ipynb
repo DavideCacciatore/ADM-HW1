{
 "cells": [
  {
   "cell_type": "markdown",
   "id": "748ffde8-5e86-4c4a-b70e-60c35e71c02d",
   "metadata": {},
   "source": [
    "# Introduction"
   ]
  },
  {
   "cell_type": "markdown",
   "id": "e4c094c3-b610-478d-afbb-36c983365976",
   "metadata": {},
   "source": [
    "### Exercise 1 - Say \"Hello, World!\" With Python"
   ]
  },
  {
   "cell_type": "code",
   "execution_count": null,
   "id": "e36d2f2a-051c-4362-a9c8-8c0999b23fcb",
   "metadata": {},
   "outputs": [],
   "source": [
    "print('Hello, World!')"
   ]
  },
  {
   "cell_type": "markdown",
   "id": "10025415-13ee-4cc3-bba1-4a16de7c74eb",
   "metadata": {},
   "source": [
    "### Exercise 2 - Python If-Else"
   ]
  },
  {
   "cell_type": "code",
   "execution_count": null,
   "id": "8af3d6fb-61fb-4773-8c41-5ad3460a9e7b",
   "metadata": {},
   "outputs": [],
   "source": [
    "#!/bin/python3\n",
    "\n",
    "import math\n",
    "import os\n",
    "import random\n",
    "import re\n",
    "import sys\n",
    "\n",
    "\n",
    "\n",
    "if __name__ == '__main__':\n",
    "    n = int(input().strip())\n",
    "\n",
    "if n % 2 == 0:\n",
    "    if n >= 2 and n <= 5:\n",
    "        print('Not Weird')\n",
    "    elif n >= 6 and n <= 20:\n",
    "        print('Weird')\n",
    "    elif n > 20:\n",
    "        print('Not Weird')\n",
    "else:\n",
    "    print('Weird')"
   ]
  },
  {
   "cell_type": "markdown",
   "id": "d6f06e48-ae32-4948-a9c4-e22679d95168",
   "metadata": {},
   "source": [
    "### Exercise 3 - Arithmetic Operators"
   ]
  },
  {
   "cell_type": "code",
   "execution_count": null,
   "id": "f4547472-c2f8-47cd-a1d0-568694fc6ec0",
   "metadata": {},
   "outputs": [],
   "source": [
    "if __name__ == '__main__':\n",
    "    a = int(input())\n",
    "    b = int(input())\n",
    "    \n",
    "print(a + b)\n",
    "print(a - b)\n",
    "print(a * b)"
   ]
  },
  {
   "cell_type": "markdown",
   "id": "3e140f9d-4ac7-4c6a-a5f9-ed6712789539",
   "metadata": {},
   "source": [
    "### Exercise 4 - Python: Division"
   ]
  },
  {
   "cell_type": "code",
   "execution_count": null,
   "id": "76d43593-28b6-4210-b0e8-47f4b4282c65",
   "metadata": {},
   "outputs": [],
   "source": [
    "from __future__ import division\n",
    "\n",
    "if __name__ == '__main__':\n",
    "    a = int(input())\n",
    "    b = int(input())\n",
    "\n",
    "print(a//b)\n",
    "print(a/b)"
   ]
  },
  {
   "cell_type": "markdown",
   "id": "949764c9-7aef-4a2f-8afb-0ba98af00015",
   "metadata": {},
   "source": [
    "### Exercise 5 - Loops"
   ]
  },
  {
   "cell_type": "code",
   "execution_count": null,
   "id": "e22d14b0-87dd-49ea-a576-c074f5346f96",
   "metadata": {},
   "outputs": [],
   "source": [
    "if __name__ == '__main__':\n",
    "    n = int(input())\n",
    "    \n",
    "for i in range(n):\n",
    "    print(i**2)"
   ]
  },
  {
   "cell_type": "markdown",
   "id": "215352c2-8dc9-4ea8-8b68-fadc37ea063a",
   "metadata": {},
   "source": [
    "### Exercise 6 - Write a function"
   ]
  },
  {
   "cell_type": "code",
   "execution_count": null,
   "id": "a21a140c-bb46-48d3-93bf-313365f0000f",
   "metadata": {},
   "outputs": [],
   "source": [
    "def is_leap(year):\n",
    "    leap = False\n",
    "    \n",
    "    if year % 400 == 0:\n",
    "        leap = True\n",
    "    elif year % 100 == 0:\n",
    "        leap = False\n",
    "    elif year % 4 == 0:\n",
    "        leap = True\n",
    "           \n",
    "    return leap"
   ]
  },
  {
   "cell_type": "markdown",
   "id": "b1fae639-fc88-4992-ab30-b2f3fb4556ec",
   "metadata": {},
   "source": [
    "### Exercise 7 - Print Function"
   ]
  },
  {
   "cell_type": "code",
   "execution_count": null,
   "id": "949e61a4-0634-4536-a86f-2d7253e97723",
   "metadata": {},
   "outputs": [],
   "source": [
    "from __future__ import print_function\n",
    "\n",
    "if __name__ == '__main__':\n",
    "    n = int(input())\n",
    "\n",
    "for i in range(1, n + 1):\n",
    "    print(i, end = '')"
   ]
  },
  {
   "cell_type": "markdown",
   "id": "3b0b938e-b814-4a05-bfb5-10ad4ee78597",
   "metadata": {},
   "source": [
    "# Basic Data Types"
   ]
  },
  {
   "cell_type": "markdown",
   "id": "1cb15b6b-10b9-48b0-862a-a07500f29732",
   "metadata": {},
   "source": [
    "### Exercise 1 - List Comprehension"
   ]
  },
  {
   "cell_type": "code",
   "execution_count": null,
   "id": "56d44d8c-98fa-453c-814e-23a04e06c9d4",
   "metadata": {},
   "outputs": [],
   "source": [
    "if __name__ == '__main__':\n",
    "    x = int(input())\n",
    "    y = int(input())\n",
    "    z = int(input())\n",
    "    n = int(input())\n",
    "    \n",
    "list = [[i, j, k] for i in range(x + 1) for j in range(y + 1) for k in range(z + 1) \n",
    "        if (i + j + k) != n]\n",
    "print(list)"
   ]
  },
  {
   "cell_type": "markdown",
   "id": "3bac37b6-2da1-41bf-a23c-bfa6799ce990",
   "metadata": {},
   "source": [
    "### Exercise 2 - Find the Runner-Up Score!"
   ]
  },
  {
   "cell_type": "code",
   "execution_count": null,
   "id": "6226ad9c-2f47-4ca8-ac0e-5764b3a1bf95",
   "metadata": {},
   "outputs": [],
   "source": [
    "if __name__ == '__main__':\n",
    "    n = int(input())\n",
    "    arr = map(int, input().split())\n",
    "    \n",
    "m = max(arr)\n",
    "while max(arr) == m:\n",
    "    arr.remove(max(arr))\n",
    "print(max(arr))"
   ]
  },
  {
   "cell_type": "markdown",
   "id": "5cf5bfc2-6f45-4441-bd76-8a5422952940",
   "metadata": {},
   "source": [
    "### Exercise 3 - Nested Lists"
   ]
  },
  {
   "cell_type": "code",
   "execution_count": null,
   "id": "1a5370ab-67b1-4f17-9f71-68a3452cedf9",
   "metadata": {},
   "outputs": [],
   "source": [
    "if __name__ == '__main__':\n",
    "    records = []\n",
    "    scores = []\n",
    "    for _ in range(int(input())):\n",
    "        name = input()\n",
    "        score = float(input())\n",
    "        records.append([name, score])\n",
    "        scores.append(score)\n",
    "\n",
    "l = min(scores)\n",
    "\n",
    "while min(scores) == l:\n",
    "    scores.remove(l)\n",
    "second_lowest = min(scores)\n",
    "\n",
    "students = []\n",
    "for name, score in records:\n",
    "    if score == second_lowest:\n",
    "        students.append(name)\n",
    "\n",
    "students.sort()\n",
    "\n",
    "for name in students:\n",
    "    print(name)"
   ]
  },
  {
   "cell_type": "markdown",
   "id": "a6949801-bae7-4412-89dc-8b2922623ea5",
   "metadata": {},
   "source": [
    "### Exercise 4 - Finding the percentage"
   ]
  },
  {
   "cell_type": "code",
   "execution_count": null,
   "id": "b96dc748-d583-4c46-8a31-0cdcbe80af93",
   "metadata": {},
   "outputs": [],
   "source": [
    "if __name__ == '__main__':\n",
    "    n = int(input())\n",
    "    student_marks = {}\n",
    "    for _ in range(n):\n",
    "        line = input().split()\n",
    "        name, scores = line[0], line[1:]\n",
    "        scores = map(float, scores)\n",
    "        student_marks[name] = scores\n",
    "    query_name = input()\n",
    "    \n",
    "marks = student_marks[query_name]\n",
    "mean = sum(marks)/len(marks)\n",
    "print('%.2f'%mean)"
   ]
  },
  {
   "cell_type": "markdown",
   "id": "156792d5-539a-45a5-a4a0-1a4525d4fbb8",
   "metadata": {},
   "source": [
    "### Exercise 5 - Lists"
   ]
  },
  {
   "cell_type": "code",
   "execution_count": null,
   "id": "8fe01d39-e6be-4bbd-8136-83a4100602fe",
   "metadata": {},
   "outputs": [],
   "source": [
    "if __name__ == '__main__':\n",
    "    N = int(input())\n",
    "\n",
    "l = []\n",
    "for _ in range(N):\n",
    "    command = input().split()\n",
    "    if command[0] == \"insert\":\n",
    "        l.insert(int(command[1]), int(command[2]))\n",
    "    elif command[0] == \"print\":\n",
    "        print(l)\n",
    "    elif command[0] == \"remove\":\n",
    "        l.remove(int(command[1]))\n",
    "    elif command[0] == \"append\":\n",
    "        l.append(int(command[1]))\n",
    "    elif command[0] == \"sort\":\n",
    "        l.sort()\n",
    "    elif command[0] == \"pop\":\n",
    "        l.pop()\n",
    "    elif command[0] == \"reverse\":\n",
    "        l.reverse()"
   ]
  },
  {
   "cell_type": "markdown",
   "id": "e661af6a-f4c5-416a-b587-489d61f699ee",
   "metadata": {},
   "source": [
    "### Exercise 6 - Tuples"
   ]
  },
  {
   "cell_type": "code",
   "execution_count": null,
   "id": "d516ffce-5f77-4558-ba11-331a8fd15e57",
   "metadata": {},
   "outputs": [],
   "source": [
    "if __name__ == '__main__':\n",
    "    n = int(input())\n",
    "    integer_list = map(int, input().split())\n",
    "    \n",
    "t = tuple(integer_list)\n",
    "print(hash(t))"
   ]
  },
  {
   "cell_type": "markdown",
   "id": "7dc0bf62-f8b0-4465-9c01-2a60d4f768b0",
   "metadata": {},
   "source": [
    "# Strings"
   ]
  },
  {
   "cell_type": "markdown",
   "id": "027643f0-e19f-434d-ad8f-c9163b84f080",
   "metadata": {},
   "source": [
    "### Exercise 1 - sWAP cASE"
   ]
  },
  {
   "cell_type": "code",
   "execution_count": null,
   "id": "cee77c98-3943-4c35-87c2-62c56b104a5e",
   "metadata": {},
   "outputs": [],
   "source": [
    "def swap_case(s):\n",
    "    string = ''\n",
    "    for letter in s:\n",
    "        if letter == letter.upper():\n",
    "            string += letter.lower()\n",
    "        else:\n",
    "            string += letter.upper()\n",
    "    return string\n",
    "\n",
    "\n",
    "if __name__ == '__main__':\n",
    "    s = input()\n",
    "    result = swap_case(s)\n",
    "    print result"
   ]
  },
  {
   "cell_type": "markdown",
   "id": "89c71969-acdd-4838-85b1-d7c84b016ef6",
   "metadata": {},
   "source": [
    "### Exercise 2 - String Split and Join"
   ]
  },
  {
   "cell_type": "code",
   "execution_count": null,
   "id": "15e268b8-34aa-4a60-8613-ed5db91bf33c",
   "metadata": {},
   "outputs": [],
   "source": [
    "def split_and_join(line):\n",
    "    my_string = line.split(\" \")\n",
    "    my_string = '-'.join(my_string)\n",
    "    return my_string\n",
    "\n",
    "if __name__ == '__main__':\n",
    "    line = input()\n",
    "    result = split_and_join(line)\n",
    "    print result"
   ]
  },
  {
   "cell_type": "markdown",
   "id": "c60bde5a-ab52-427a-bccf-dc8a7f5ef266",
   "metadata": {},
   "source": [
    "### Exercise 3 - What's Your Name?"
   ]
  },
  {
   "cell_type": "code",
   "execution_count": null,
   "id": "cbcb33dc-36c8-43c3-9ff5-c926526f9381",
   "metadata": {},
   "outputs": [],
   "source": [
    "#\n",
    "# Complete the 'print_full_name' function below.\n",
    "#\n",
    "# The function is expected to return a STRING.\n",
    "# The function accepts following parameters:\n",
    "#  1. STRING first\n",
    "#  2. STRING last\n",
    "#\n",
    "\n",
    "def print_full_name(first, last):\n",
    "    print('Hello ' + first + ' ' + last + '! You just delved into python.' )\n",
    "\n",
    "if __name__ == '__main__':\n",
    "    first_name = input()\n",
    "    last_name = input()\n",
    "    print_full_name(first_name, last_name)"
   ]
  },
  {
   "cell_type": "markdown",
   "id": "f2603781-f138-4e50-97ef-3010cb5b3f1b",
   "metadata": {},
   "source": [
    "### Exercise 4 - Mutations"
   ]
  },
  {
   "cell_type": "code",
   "execution_count": null,
   "id": "cc5dd34f-e6ba-4569-8e55-7d2739283706",
   "metadata": {},
   "outputs": [],
   "source": [
    "def mutate_string(string, position, character):\n",
    "    l = list(string)\n",
    "    l[int(position)] = str(character)\n",
    "    l = ''.join(l)\n",
    "    return l\n",
    "\n",
    "if __name__ == '__main__':\n",
    "    s = input()\n",
    "    i, c = input().split()\n",
    "    s_new = mutate_string(s, int(i), c)\n",
    "    print s_new"
   ]
  },
  {
   "cell_type": "markdown",
   "id": "7a9e3604-1b0c-4f56-bebf-6455df0abd29",
   "metadata": {},
   "source": [
    "### Exercise 5 - Find a string"
   ]
  },
  {
   "cell_type": "code",
   "execution_count": null,
   "id": "8e6968e3-a88d-4c12-b31f-35eae0d48720",
   "metadata": {},
   "outputs": [],
   "source": [
    "def count_substring(string, sub_string):\n",
    "    count = 0\n",
    "    while sub_string in string:\n",
    "        i = string.find(sub_string)\n",
    "        string = string[:i] + string[(i + 1):]\n",
    "        count += 1\n",
    "    return count\n",
    "\n",
    "if __name__ == '__main__':\n",
    "    string = input().strip()\n",
    "    sub_string = input().strip()\n",
    "    \n",
    "    count = count_substring(string, sub_string)\n",
    "    print count"
   ]
  },
  {
   "cell_type": "markdown",
   "id": "113c7af2-ad75-4387-8695-bb038cfceb00",
   "metadata": {},
   "source": [
    "### Exercise 6 - String Validators"
   ]
  },
  {
   "cell_type": "code",
   "execution_count": null,
   "id": "1abd2af5-1862-46d5-878b-b2317f0cc7cf",
   "metadata": {},
   "outputs": [],
   "source": [
    "if __name__ == '__main__':\n",
    "    s = input()\n",
    "\n",
    "print(any(c.isalnum() for c in s))\n",
    "print(any(c.isalpha() for c in s))\n",
    "print(any(c.isdigit() for c in s))\n",
    "print(any(c.islower() for c in s))\n",
    "print(any(c.isupper() for c in s))"
   ]
  },
  {
   "cell_type": "markdown",
   "id": "f918fd29-a893-4492-a2ef-1c373ff51ebe",
   "metadata": {},
   "source": [
    "### Exercise 7 - Text Alignment"
   ]
  },
  {
   "cell_type": "code",
   "execution_count": null,
   "id": "709fd8c0-fd24-4c9e-97a3-976fdb81116d",
   "metadata": {},
   "outputs": [],
   "source": [
    "thickness = int(input())\n",
    "c = 'H'\n",
    "\n",
    "#Top\n",
    "for i in range(thickness):\n",
    "    print((c*i).rjust(thickness - 1) + c + (c*i).ljust(thickness - 1))\n",
    "    \n",
    "#Top pillars\n",
    "for i in range(thickness + 1):\n",
    "    print((c*thickness).center(thickness*2) + (c*thickness).center(thickness*6))\n",
    "    \n",
    "#Center\n",
    "for i in range((thickness + 1)//2):\n",
    "    print((c*thickness*5).center(thickness*6))\n",
    "    \n",
    "#Bottom pillars\n",
    "for i in range(thickness + 1):\n",
    "    print((c*thickness).center(thickness*2) + (c*thickness).center(thickness*6))\n",
    "    \n",
    "#Bottom\n",
    "for i in range(thickness):\n",
    "    print(((c*(thickness - i - 1)).rjust(thickness) + c + \n",
    "           (c*(thickness - i - 1)).ljust(thickness)).rjust(thickness*6))"
   ]
  },
  {
   "cell_type": "markdown",
   "id": "df119689-0f8b-4840-90a3-2d5f135840bc",
   "metadata": {},
   "source": [
    "### Exercise 8 - Text Wrap"
   ]
  },
  {
   "cell_type": "code",
   "execution_count": null,
   "id": "83c4d151-88bf-41d7-84c5-320cb24ba1da",
   "metadata": {},
   "outputs": [],
   "source": [
    "import textwrap\n",
    "\n",
    "def wrap(string, max_width):\n",
    "    a = textwrap.fill(string, max_width)\n",
    "    return a\n",
    "\n",
    "if __name__ == '__main__':\n",
    "    string, max_width = input(), int(input())\n",
    "    result = wrap(string, max_width)\n",
    "    print(result)"
   ]
  },
  {
   "cell_type": "markdown",
   "id": "d325087a-c175-4902-81a6-73b3662f496b",
   "metadata": {},
   "source": [
    "### Exercise 9 - Designer Door Mat"
   ]
  },
  {
   "cell_type": "code",
   "execution_count": null,
   "id": "d9e7f781-707f-40a4-9f72-19703514af70",
   "metadata": {},
   "outputs": [],
   "source": [
    "n, m = map(int,input().split())\n",
    "\n",
    "for i in range(1, n, 2):\n",
    "    print(('.|.' * i).center(m, '-'))\n",
    "print(('WELCOME').center(m, '-'))\n",
    "for i in range(n-2, -1, -2):\n",
    "    print(('.|.' * i).center(m, '-'))"
   ]
  },
  {
   "cell_type": "markdown",
   "id": "52c56257-cd13-4813-a982-41250182e370",
   "metadata": {},
   "source": [
    "### Exercise 10 - String Formatting"
   ]
  },
  {
   "cell_type": "code",
   "execution_count": null,
   "id": "e9bb023c-9791-4e13-86ae-dd9461c1d8ea",
   "metadata": {},
   "outputs": [],
   "source": [
    "# Taken from the discussions.\n",
    "\n",
    "def print_formatted(number):\n",
    "    width = len(bin(n)) - 2\n",
    "\n",
    "    for i in range(1, n + 1):\n",
    "        f = \"\"\n",
    "        for c in \"doXb\":\n",
    "            if f:\n",
    "                f += \" \"\n",
    "            f += \"{:>\" + str(width) + c + \"}\"\n",
    "        print(f.format(i, i, i, i))\n",
    "\n",
    "if __name__ == '__main__':\n",
    "    n = int(input())\n",
    "    print_formatted(n)"
   ]
  },
  {
   "cell_type": "markdown",
   "id": "e87c79ca-855b-4a23-b627-5417c58374c4",
   "metadata": {},
   "source": [
    "### Exercise 11 - Alphabet Rangoli"
   ]
  },
  {
   "cell_type": "code",
   "execution_count": null,
   "id": "8dc09572-5262-4314-a463-d169c0d43431",
   "metadata": {},
   "outputs": [],
   "source": [
    "import string\n",
    "\n",
    "def print_rangoli(size):\n",
    "    alpha = string.ascii_lowercase\n",
    "    l = []\n",
    "    for i in range(size):\n",
    "        s = '-'.join(alpha[i:n])\n",
    "        l.append((s[::-1] + s[1:]).center(4 * size - 3, '-'))\n",
    "    print('\\n'.join(l[:0:-1] + l))\n",
    "\n",
    "if __name__ == '__main__':\n",
    "    n = int(input())\n",
    "    print_rangoli(n)"
   ]
  },
  {
   "cell_type": "markdown",
   "id": "babf520e-cd28-411b-90e3-761eb057e2f5",
   "metadata": {},
   "source": [
    "### Exercise 12 - Capitalize!"
   ]
  },
  {
   "cell_type": "code",
   "execution_count": null,
   "id": "de0ef6a3-1195-46f8-996a-85aa26066485",
   "metadata": {},
   "outputs": [],
   "source": [
    "def solve(s):\n",
    "    name = s.split(\" \")\n",
    "    capitalized = [c.capitalize() for c in name]\n",
    "    n = ' '.join(capitalized)\n",
    "    return n\n",
    "\n",
    "if __name__ == '__main__':\n",
    "    fptr = open(os.environ['OUTPUT_PATH'], 'w')\n",
    "\n",
    "    s = input()\n",
    "\n",
    "    result = solve(s)\n",
    "\n",
    "    fptr.write(result + '\\n')\n",
    "\n",
    "    fptr.close()\n"
   ]
  },
  {
   "cell_type": "markdown",
   "id": "25095e49-9d19-48d6-ab77-8c0356bf4d32",
   "metadata": {},
   "source": [
    "### Exercise 13 - The Minion Game"
   ]
  },
  {
   "cell_type": "code",
   "execution_count": null,
   "id": "e20bcb73-3700-48da-87ad-22c3a43a826e",
   "metadata": {},
   "outputs": [],
   "source": [
    "def minion_game(string):\n",
    "    vowels = 'AEIOUaeiou'\n",
    "    kevin = 0\n",
    "    stuart = 0\n",
    "    \n",
    "    for i in range(len(string)):\n",
    "        if string[i] in vowels:\n",
    "            kevin += (len(string) - i)\n",
    "        else:\n",
    "            stuart += (len(string) - i)\n",
    "    \n",
    "    if kevin > stuart:\n",
    "        print('Kevin ' + str(kevin))\n",
    "    elif kevin < stuart:\n",
    "        print('Stuart ' + str(stuart))\n",
    "    else:\n",
    "        print('Draw')\n",
    "\n",
    "if __name__ == '__main__':\n",
    "    s = input()\n",
    "    minion_game(s)"
   ]
  },
  {
   "cell_type": "markdown",
   "id": "3ae6947a-9eb3-4a49-bcb5-1f9bd8c5459b",
   "metadata": {},
   "source": [
    "### Exercise 14 - Merge the Tools!"
   ]
  },
  {
   "cell_type": "code",
   "execution_count": null,
   "id": "0da5346d-e9ff-49bc-9274-9da41cfe4c39",
   "metadata": {},
   "outputs": [],
   "source": [
    "def merge_the_tools(string, k):\n",
    "    n = len(string)\n",
    "    blocks = []\n",
    "    result = []\n",
    "    \n",
    "    for i in range(0, n, k):\n",
    "        blocks.append(string[i : (i + k)])\n",
    "    \n",
    "    for j in blocks:\n",
    "        for l in j:\n",
    "            if l not in result:\n",
    "                result.append(l)\n",
    "        print(''.join(result))\n",
    "        result = []  # Make result empty each l\n",
    "\n",
    "if __name__ == '__main__':\n",
    "    string, k = input(), int(input())\n",
    "    merge_the_tools(string, k)"
   ]
  },
  {
   "cell_type": "markdown",
   "id": "5d3b286f-11e5-4977-8aeb-787c1090b730",
   "metadata": {},
   "source": [
    "# Sets"
   ]
  },
  {
   "cell_type": "markdown",
   "id": "f50506a7-ec9d-4c86-94b2-788dccc4e633",
   "metadata": {},
   "source": [
    "### Exercise 1 - Introduction to Sets"
   ]
  },
  {
   "cell_type": "code",
   "execution_count": null,
   "id": "fc851fd0-a180-40bd-a7f1-c33c19f8752d",
   "metadata": {},
   "outputs": [],
   "source": [
    "def average(array):\n",
    "    s = set(array)\n",
    "    n = len(s)\n",
    "    return (sum(s)/n)\n",
    "\n",
    "if __name__ == '__main__':\n",
    "    n = int(input())\n",
    "    arr = list(map(int, input().split()))\n",
    "    result = average(arr)\n",
    "    print(result)"
   ]
  },
  {
   "cell_type": "markdown",
   "id": "d127076f-c5c0-4117-aed3-ab65dcc12781",
   "metadata": {},
   "source": [
    "### Exercise 2 - No Idea!"
   ]
  },
  {
   "cell_type": "code",
   "execution_count": null,
   "id": "8bd066e8-36f0-49f1-869b-aa303343d366",
   "metadata": {},
   "outputs": [],
   "source": [
    "n, m = input().split()\n",
    "arr = list(input().split())\n",
    "A = set(input().split())\n",
    "B = set(input().split())\n",
    "\n",
    "def my_happiness(arr, A, B):\n",
    "    happiness = 0\n",
    "    for i in arr:\n",
    "        if i in A:\n",
    "            happiness += 1\n",
    "        elif i in B:\n",
    "            happiness += -1\n",
    "    return happiness\n",
    "\n",
    "my_happiness(arr, A, B)\n",
    "\n",
    "# or\n",
    "\n",
    "# print(sum([(i in A) - (i in B) for i in arr]))"
   ]
  },
  {
   "cell_type": "markdown",
   "id": "68c232d3-027f-42be-9cad-c5b856e0ff83",
   "metadata": {},
   "source": [
    "### Exercise 3 - Symmetric Difference"
   ]
  },
  {
   "cell_type": "code",
   "execution_count": null,
   "id": "191b8b80-6434-45c3-a1dd-8ea56f4840a0",
   "metadata": {},
   "outputs": [],
   "source": [
    "m = input()\n",
    "a = set(input().split())\n",
    "n = input()\n",
    "b = set(input().split())\n",
    "\n",
    "ab = a.difference(b)\n",
    "ba = b.difference(a)\n",
    "symm_diff = ab.union(ba)\n",
    "print('\\n'.join(sorted(symm_diff, key = int)))"
   ]
  },
  {
   "cell_type": "markdown",
   "id": "598c0195-a283-4b0d-9150-56371d741573",
   "metadata": {},
   "source": [
    "### Exercise 4 - Set .add()"
   ]
  },
  {
   "cell_type": "code",
   "execution_count": null,
   "id": "f0c3092f-aac0-4b99-8faa-3a75c3d19076",
   "metadata": {},
   "outputs": [],
   "source": [
    "n = int(input())\n",
    "s = set()\n",
    "for i in range(n):\n",
    "    s.add(input())\n",
    "\n",
    "count = 0\n",
    "for c in s:\n",
    "    count += 1\n",
    "print(count)"
   ]
  },
  {
   "cell_type": "markdown",
   "id": "4a2b52ef-7384-4509-a613-f007ff05248b",
   "metadata": {},
   "source": [
    "### Exercise 5 - Set .discard(), .remove() & .pop()"
   ]
  },
  {
   "cell_type": "code",
   "execution_count": null,
   "id": "70a849ae-6b1e-47da-b6bd-54d0791c82f8",
   "metadata": {},
   "outputs": [],
   "source": [
    "n = int(input())\n",
    "s = set(map(int, input().split()))\n",
    "N = int(input())\n",
    "for i in range(N):\n",
    "    commands = (input().split())\n",
    "    if commands[0] == 'pop':\n",
    "        s.pop()\n",
    "    elif commands[0] == 'remove':\n",
    "        s.remove(int(commands[1]))\n",
    "    elif commands[0] == 'discard':\n",
    "        s.discard(int(commands[1]))\n",
    "print(sum(s))"
   ]
  },
  {
   "cell_type": "markdown",
   "id": "c8349932-3b1f-4643-8ed8-0244b5695556",
   "metadata": {},
   "source": [
    "### Exercise 6 - Set .union() Operation"
   ]
  },
  {
   "cell_type": "code",
   "execution_count": null,
   "id": "cf99416f-0103-401f-8f87-647446b95841",
   "metadata": {},
   "outputs": [],
   "source": [
    "n = int(input())\n",
    "eng = set(map(int, input().split()))\n",
    "b = int(input())\n",
    "fra = set(map(int, input().split()))\n",
    "\n",
    "print(len(eng.union(fra)))"
   ]
  },
  {
   "cell_type": "markdown",
   "id": "1db1a87a-00c1-4bbe-bf7b-c220e4d1a47e",
   "metadata": {},
   "source": [
    "### Exercise 7 - Set .intersection() Operation"
   ]
  },
  {
   "cell_type": "code",
   "execution_count": null,
   "id": "ad8bf367-11ad-4b0b-a709-5bffa2925e23",
   "metadata": {},
   "outputs": [],
   "source": [
    "n = int(input())\n",
    "eng = set(map(int, input().split()))\n",
    "b = int(input())\n",
    "fra = set(map(int, input().split()))\n",
    "\n",
    "print(len(eng.intersection(fra)))"
   ]
  },
  {
   "cell_type": "markdown",
   "id": "8916a4dd-68e3-4bbf-ae41-3b339c21a10e",
   "metadata": {},
   "source": [
    "### Exercise 8 - Set .difference() Operation"
   ]
  },
  {
   "cell_type": "code",
   "execution_count": null,
   "id": "5d056cb4-13c3-4e20-9390-532c237d2d73",
   "metadata": {},
   "outputs": [],
   "source": [
    "n = int(input())\n",
    "eng = set(map(int, input().split()))\n",
    "b = int(input())\n",
    "fra = set(map(int, input().split()))\n",
    "\n",
    "print(len(eng.difference(fra)))"
   ]
  },
  {
   "cell_type": "markdown",
   "id": "d09bd39c-85b8-43a6-8695-2e855c1fe6a2",
   "metadata": {},
   "source": [
    "### Exercise 9 - Set .symmetric_difference() Operation"
   ]
  },
  {
   "cell_type": "code",
   "execution_count": null,
   "id": "48c3a3e0-c948-4c77-bec3-2f5dfb8b5472",
   "metadata": {},
   "outputs": [],
   "source": [
    "n = int(input())\n",
    "eng = set(map(int, input().split()))\n",
    "b = int(input())\n",
    "fra = set(map(int, input().split()))\n",
    "\n",
    "print(len(eng.symmetric_difference(fra)))"
   ]
  },
  {
   "cell_type": "markdown",
   "id": "cd6211b9-6621-4749-a3a5-c000e83d73ab",
   "metadata": {},
   "source": [
    "### Exercise 10 - Set Mutations"
   ]
  },
  {
   "cell_type": "code",
   "execution_count": null,
   "id": "1d258e3b-4bbd-40e6-b684-e73bdba3012d",
   "metadata": {},
   "outputs": [],
   "source": [
    "n = int(input())\n",
    "A = set(map(int, input().split()))\n",
    "N = int(input())\n",
    "\n",
    "for i in range(N):\n",
    "    cmd, l = input().split()\n",
    "    B = set(map(int, input().split()))\n",
    "    \n",
    "    if cmd == 'update':\n",
    "        A.update(B)\n",
    "    elif cmd == 'intersection_update':\n",
    "        A.intersection_update(B)\n",
    "    elif cmd == 'difference_update':\n",
    "        A.difference_update(B)\n",
    "    elif cmd == 'symmetric_difference_update':\n",
    "        A.symmetric_difference_update(B)\n",
    "    \n",
    "print(sum(A))"
   ]
  },
  {
   "cell_type": "markdown",
   "id": "180c3c67-fddc-4f84-86dd-31d69b30527d",
   "metadata": {},
   "source": [
    "### Exercise 11 - The Captain's Room"
   ]
  },
  {
   "cell_type": "code",
   "execution_count": null,
   "id": "68a3ea39-bdf6-415b-ae58-16b0122fee03",
   "metadata": {},
   "outputs": [],
   "source": [
    "K = int(input())\n",
    "rooms = list(map(int, input().split()))\n",
    "\n",
    "t = set()\n",
    "c = set()\n",
    "\n",
    "for room in rooms:\n",
    "    if room in t:\n",
    "        c.add(room)\n",
    "    else:\n",
    "        t.add(room)\n",
    "\n",
    "print(list(t.difference(c))[0])"
   ]
  },
  {
   "cell_type": "markdown",
   "id": "9e2652db-5786-4814-8320-e9a2d899a7af",
   "metadata": {},
   "source": [
    "### Exercise 12 - Check Subset"
   ]
  },
  {
   "cell_type": "code",
   "execution_count": null,
   "id": "2816ea1d-bf98-47ea-afcf-58daa62d4e52",
   "metadata": {},
   "outputs": [],
   "source": [
    "T = int(input())\n",
    "for i in range(T):\n",
    "    n = int(input())\n",
    "    A = set(map(int, input().split()))\n",
    "    m = int(input())\n",
    "    B = set(map(int, input().split()))\n",
    "    \n",
    "    if A == A.intersection(B):\n",
    "        print(True)\n",
    "    else:\n",
    "        print(False)"
   ]
  },
  {
   "cell_type": "markdown",
   "id": "91d16ffd-fa83-476c-98de-935548550700",
   "metadata": {},
   "source": [
    "### Exercise 13 - Check Strict Superset"
   ]
  },
  {
   "cell_type": "code",
   "execution_count": null,
   "id": "bf8f6a2f-a98e-44fd-b03e-476a28930342",
   "metadata": {},
   "outputs": [],
   "source": [
    "A = set(map(int, input().split()))\n",
    "n = int(input())\n",
    "sets = []\n",
    "for i in range(n):\n",
    "    B = set(map(int, input().split()))\n",
    "    sets.append(B)\n",
    "    \n",
    "result = True\n",
    "for s in sets:\n",
    "    if not A.issuperset(s):\n",
    "        result = False\n",
    "\n",
    "print(result)"
   ]
  },
  {
   "cell_type": "markdown",
   "id": "0ffe8931-2820-4358-99db-0bf4054fd283",
   "metadata": {},
   "source": [
    "# Collections"
   ]
  },
  {
   "cell_type": "markdown",
   "id": "9c611800-05e1-476e-8048-fa3175b41482",
   "metadata": {},
   "source": [
    "### Exercise 1 - collections.Counter()"
   ]
  },
  {
   "cell_type": "code",
   "execution_count": null,
   "id": "256e8f7c-2a5c-4afe-8572-3005a012542c",
   "metadata": {},
   "outputs": [],
   "source": [
    "from collections import Counter\n",
    "\n",
    "X = int(input())\n",
    "sizes = Counter(map(int, input().split()))\n",
    "N = int(input())\n",
    "\n",
    "money = 0\n",
    "for i in range(N):\n",
    "    size, price = map(int, input().split())\n",
    "    if sizes[size]:\n",
    "        money += price\n",
    "        sizes[size] -= 1\n",
    "    \n",
    "print(money)"
   ]
  },
  {
   "cell_type": "markdown",
   "id": "bd0cd1dc-367d-4d5f-bbf7-b6d8574379b3",
   "metadata": {},
   "source": [
    "### Exercise 2 - DefaultDict Tutorial"
   ]
  },
  {
   "cell_type": "code",
   "execution_count": null,
   "id": "6d2338e0-a85c-4a53-aee9-63409501648a",
   "metadata": {},
   "outputs": [],
   "source": [
    "from collections import defaultdict\n",
    "\n",
    "n, m = map(int, input().split())\n",
    "d = defaultdict(list)\n",
    "\n",
    "for i in range(1, n+1):\n",
    "    d[input()].append(str(i))\n",
    "    \n",
    "for i in range(m):\n",
    "    print(' '.join(d[input()]) or -1)\n",
    "    \n",
    "# Taken from the discussions"
   ]
  },
  {
   "cell_type": "markdown",
   "id": "06d0628a-9ecc-46c7-b04d-c4991bae0176",
   "metadata": {},
   "source": [
    "### Exercise 3 - Collections.namedtuple()"
   ]
  },
  {
   "cell_type": "code",
   "execution_count": null,
   "id": "13285642-68eb-4723-b7b0-ffe5a87f6d60",
   "metadata": {},
   "outputs": [],
   "source": [
    "from collections import namedtuple\n",
    "\n",
    "n = int(input())\n",
    "names = input().split()\n",
    "tot = []\n",
    "\n",
    "for i in range(n):\n",
    "    Students = namedtuple('Student', names)\n",
    "    n1, n2, n3, n4 = input().split()\n",
    "    student = Students(n1, n2, n3, n4)\n",
    "    tot.append(int(student.MARKS))\n",
    "\n",
    "mean = sum(tot)/n\n",
    "print('%.2f'%mean)"
   ]
  },
  {
   "cell_type": "markdown",
   "id": "ba9e44c1-e292-4c28-8bc5-de529ba5641a",
   "metadata": {},
   "source": [
    "### Exercise 4 - Collections.OrderedDict()"
   ]
  },
  {
   "cell_type": "code",
   "execution_count": null,
   "id": "809098ff-bf56-4032-ab61-bb510f7a682f",
   "metadata": {},
   "outputs": [],
   "source": [
    "from collections import OrderedDict\n",
    "\n",
    "n = int(input())\n",
    "basket = OrderedDict()\n",
    "\n",
    "for _ in range(n):\n",
    "    item_name, net_price = input().rsplit(' ', 1)\n",
    "    basket[item_name] = basket.get(item_name, 0) + int(net_price)\n",
    "\n",
    "[print(item_name, basket[item_name]) for item_name in basket]\n",
    "\n",
    "#Taken from the discussions"
   ]
  },
  {
   "cell_type": "markdown",
   "id": "49111470-ba52-4db3-930d-adabbf7425ce",
   "metadata": {},
   "source": [
    "### Exercise 5 - Word Order"
   ]
  },
  {
   "cell_type": "code",
   "execution_count": null,
   "id": "cd71dde6-6687-4e35-b880-cf92ddeb2c19",
   "metadata": {},
   "outputs": [],
   "source": [
    "n = int(input())\n",
    "words = {}\n",
    "\n",
    "for i in range(n):\n",
    "    word = input()\n",
    "    if word in words:\n",
    "        words[word] += 1\n",
    "    else:\n",
    "        words[word] = 1\n",
    "\n",
    "print(len(words))\n",
    "\n",
    "for i in words:\n",
    "    print(words[i], end=\" \")"
   ]
  },
  {
   "cell_type": "markdown",
   "id": "8d7e923e-6fd3-4d95-8c18-6812e04bc3a5",
   "metadata": {},
   "source": [
    "### Exercise 6 - Collections.deque()"
   ]
  },
  {
   "cell_type": "code",
   "execution_count": null,
   "id": "df4bf2c0-b2cc-4d1e-b789-1093722fa118",
   "metadata": {},
   "outputs": [],
   "source": [
    "from collections import deque\n",
    "\n",
    "n = int(input())\n",
    "d = deque()\n",
    "\n",
    "for _ in range(n):\n",
    "    cmd = input().split()\n",
    "    if cmd[0] == 'append':\n",
    "        d.append(int(cmd[1]))\n",
    "    elif cmd[0] == 'pop':\n",
    "        d.pop()\n",
    "    elif cmd[0] == 'popleft':\n",
    "        d.popleft()\n",
    "    elif cmd[0] == 'appendleft':\n",
    "        d.appendleft(int(cmd[1]))\n",
    "    \n",
    "[print(x, end=' ') for x in d]"
   ]
  },
  {
   "cell_type": "markdown",
   "id": "428954b0-e47f-4f14-a5dd-2756bd0b7817",
   "metadata": {},
   "source": [
    "### Exercise 7 - Company Logo"
   ]
  },
  {
   "cell_type": "code",
   "execution_count": null,
   "id": "c75fc2b1-9ef8-4cd3-bc7c-11519f51442b",
   "metadata": {},
   "outputs": [],
   "source": [
    "#!/bin/python3\n",
    "\n",
    "import math\n",
    "import os\n",
    "import random\n",
    "import re\n",
    "import sys\n",
    "from collections import OrderedDict\n",
    "\n",
    "if __name__ == '__main__':\n",
    "    s = input()\n",
    "\n",
    "d = OrderedDict()\n",
    "\n",
    "for c in s:\n",
    "    if c in d:\n",
    "        d[c] += 1\n",
    "    else:\n",
    "        d[c] = 1\n",
    "    \n",
    "l = []\n",
    "for v, k in d.items():\n",
    "    l.append([-k, v])\n",
    "    \n",
    "ordered_list = sorted(l)\n",
    "print(ordered_list[0][1], -ordered_list[0][0])\n",
    "print(ordered_list[1][1], -ordered_list[1][0])\n",
    "print(ordered_list[2][1], -ordered_list[2][0]) "
   ]
  },
  {
   "cell_type": "markdown",
   "id": "11642422-d940-45d5-aa9c-7cfd5e82e705",
   "metadata": {},
   "source": [
    "### Exercise 8 - Piling Up!"
   ]
  },
  {
   "cell_type": "code",
   "execution_count": null,
   "id": "649ea370-52f4-43b9-874d-f422cfae4322",
   "metadata": {},
   "outputs": [],
   "source": [
    "from collections import deque\n",
    "\n",
    "T = int(input())\n",
    "\n",
    "def stack_check(d): #Check if the cubes can be piled up.\n",
    "    while d: #Choose from what side you begin to pick cubes.\n",
    "        if d[0] > d[-1]:\n",
    "            pick = d.popleft()\n",
    "        else:\n",
    "            pick = d.pop()\n",
    "            \n",
    "        if not d:\n",
    "            return 'Yes' #You have piled all the cubes!\n",
    "        \n",
    "        if d[-1] > pick or d[0] > pick:\n",
    "            return 'No' #The cubes can't be piled.\n",
    "\n",
    "for _ in range(T):\n",
    "    size = int(input())\n",
    "    blocks = deque(map(int, input().split()))\n",
    "    print(stack_check(blocks))\n",
    "    \n",
    "#Taken from the discussion.  "
   ]
  },
  {
   "cell_type": "markdown",
   "id": "262919f4-a744-44f1-a8c0-7a4f6fcc79d1",
   "metadata": {},
   "source": [
    "# Date and Time"
   ]
  },
  {
   "cell_type": "markdown",
   "id": "63046bda-e53f-4833-bd93-b1d6ecdab489",
   "metadata": {},
   "source": [
    "### Exercise 1 - Calendar Module"
   ]
  },
  {
   "cell_type": "code",
   "execution_count": null,
   "id": "a12e3700-a102-4a32-9194-b91c7a54c432",
   "metadata": {},
   "outputs": [],
   "source": [
    "import calendar\n",
    "\n",
    "date = list(map(int, input().split()))\n",
    "day = calendar.weekday(date[2], date[0], date[1])\n",
    "print(calendar.day_name[day].upper())"
   ]
  },
  {
   "cell_type": "markdown",
   "id": "edcaba39-dfdb-4700-8e93-92e974ff213c",
   "metadata": {},
   "source": [
    "### Exercise 2 - Time Delta"
   ]
  },
  {
   "cell_type": "code",
   "execution_count": null,
   "id": "195b43d0-ddab-4e06-ae70-d302387511d5",
   "metadata": {},
   "outputs": [],
   "source": [
    "from datetime import datetime, timedelta\n",
    "\n",
    "T = int(input())\n",
    "for _ in range(T):\n",
    "    t1 = datetime.strptime(input(), '%a %d %b %Y %H:%M:%S %z')\n",
    "    t2 = datetime.strptime(input(), '%a %d %b %Y %H:%M:%S %z')\n",
    "    print(int(abs(t1 - t2).total_seconds()))"
   ]
  },
  {
   "cell_type": "markdown",
   "id": "5a041de3-45ab-4b74-adc9-8371817eb3bd",
   "metadata": {},
   "source": [
    "# Exceptions"
   ]
  },
  {
   "cell_type": "code",
   "execution_count": null,
   "id": "cabc3ef6-1bf5-4bb4-8857-53e03066739c",
   "metadata": {},
   "outputs": [],
   "source": [
    "T = int(input())\n",
    "\n",
    "for _ in range(T):\n",
    "    a, b = input().split()\n",
    "    try:\n",
    "        print(int(a)//int(b))\n",
    "    except ZeroDivisionError as e:\n",
    "        print('Error Code:', e)\n",
    "    except ValueError as v:\n",
    "        print('Error Code:', v)"
   ]
  },
  {
   "cell_type": "markdown",
   "id": "725015e5-9c69-493b-b89a-de38362e5df8",
   "metadata": {},
   "source": [
    "# Built-ins"
   ]
  },
  {
   "cell_type": "markdown",
   "id": "22f29517-b0de-4583-8e20-161d80c4c989",
   "metadata": {},
   "source": [
    "### Exercise 1 - Zipped!"
   ]
  },
  {
   "cell_type": "code",
   "execution_count": null,
   "id": "8cbcf39d-9b97-44b0-afff-c0a648c0dc28",
   "metadata": {},
   "outputs": [],
   "source": [
    "N, X = input().split()\n",
    "students = [i for i in range(1,int(N)+1)]\n",
    "\n",
    "subjects = []\n",
    "for i in range(int(X)):\n",
    "    subjects.append(map(float, input().split()))\n",
    "\n",
    "for subject in zip(*subjects):\n",
    "    print(sum(subject)/len(subject))"
   ]
  },
  {
   "cell_type": "markdown",
   "id": "599ab05f-f425-413b-bbee-6026d89623f5",
   "metadata": {},
   "source": [
    "### Exercise 2 - Athlete Sort"
   ]
  },
  {
   "cell_type": "code",
   "execution_count": null,
   "id": "b03667fc-8fc7-4e2c-ae49-e099c2bb52c3",
   "metadata": {},
   "outputs": [],
   "source": [
    "N, M = input().split()\n",
    "sheet = []\n",
    "for _ in range(int(N)):\n",
    "    sheet.append(list(map(int, input().split())))\n",
    "K = int(input())\n",
    "\n",
    "athlete_sort = sorted(sheet, key=lambda row: row[K])\n",
    "for row in athlete_sort:\n",
    "    print(*row, sep=' ')"
   ]
  },
  {
   "cell_type": "markdown",
   "id": "60698f5b-6dcb-488f-b1e5-5aae17c90185",
   "metadata": {},
   "source": [
    "### Exercise 3 - ginortS"
   ]
  },
  {
   "cell_type": "code",
   "execution_count": null,
   "id": "c727182b-4e86-4538-8af4-296a4a61e677",
   "metadata": {},
   "outputs": [],
   "source": [
    "S = input()\n",
    "\n",
    "l = [char for char in S]\n",
    "\n",
    "low, upp, odd, even = [], [], [], []\n",
    "\n",
    "for c in l:\n",
    "    if c.islower():\n",
    "        low.append(c)\n",
    "    elif c.isupper():\n",
    "        upp.append(c)\n",
    "    elif int(c) % 2 != 0:\n",
    "        odd.append(c)\n",
    "    elif int(c) % 2 == 0:\n",
    "        even.append(c)\n",
    "\n",
    "s_low, s_upp = sorted(low), sorted(upp)\n",
    "s_odd, s_even = sorted(odd), sorted(even)\n",
    "\n",
    "print(''.join(s_low + s_upp + s_odd + s_even))"
   ]
  },
  {
   "cell_type": "markdown",
   "id": "cd99497c-e2f3-4f74-8901-f5bd4099643d",
   "metadata": {},
   "source": [
    "# Python Functionals"
   ]
  },
  {
   "cell_type": "code",
   "execution_count": null,
   "id": "46181445-42a0-4195-ada6-15391f1014f7",
   "metadata": {},
   "outputs": [],
   "source": [
    "cube = lambda x: x**3 \n",
    "\n",
    "def fibonacci(n):\n",
    "    result = []\n",
    "    a, b = 0, 1\n",
    "    for _ in range(n):\n",
    "        result.append(a)\n",
    "        a, b = b, a+b\n",
    "    return result\n",
    "\n",
    "if __name__ == '__main__':\n",
    "    n = int(input())\n",
    "    print(list(map(cube, fibonacci(n))))"
   ]
  },
  {
   "cell_type": "markdown",
   "id": "f5681159-ea33-426e-b2c2-778f9aacfab9",
   "metadata": {},
   "source": [
    "# Regex and Parsing challenges"
   ]
  },
  {
   "cell_type": "markdown",
   "id": "732a5f7e-2db3-4339-a97d-424b977b429d",
   "metadata": {},
   "source": [
    "### Exercise 1 - Detect Floating Point Number"
   ]
  },
  {
   "cell_type": "code",
   "execution_count": null,
   "id": "036f1503-6f3c-4ae4-89bf-bcd52b68554b",
   "metadata": {},
   "outputs": [],
   "source": [
    "import re\n",
    "\n",
    "T = int(input())\n",
    "\n",
    "for _ in range(T):\n",
    "    print(bool(re.match(r'^[+-]?[0-9]*\\.[0-9]+$', input())))\n",
    "    #It can start either with + or -\n",
    "    #Followed from any number 0-9 repeated arbitrarily times\n",
    "    #You need to have a dot\n",
    "    #Again any number from 0-9 repeated arbitrarily times"
   ]
  },
  {
   "cell_type": "markdown",
   "id": "0c746612-62a3-48fc-8ca5-1d222fc951cb",
   "metadata": {},
   "source": [
    "### Exercise 2 - Re.split()"
   ]
  },
  {
   "cell_type": "code",
   "execution_count": null,
   "id": "56e71293-c84c-4a1a-ad85-02918ac5af9c",
   "metadata": {},
   "outputs": [],
   "source": [
    "regex_pattern = r\"[.,,]\"\n",
    "\n",
    "import re\n",
    "print(\"\\n\".join(re.split(regex_pattern, input())))"
   ]
  },
  {
   "cell_type": "markdown",
   "id": "49daa017-7277-45d2-b93d-b4ff8ddaf557",
   "metadata": {},
   "source": [
    "### Exercise 3 - Group(), Groups() & Groupdict()"
   ]
  },
  {
   "cell_type": "code",
   "execution_count": null,
   "id": "bf5e2cb2-83d6-40f0-94aa-8bcd7e654449",
   "metadata": {},
   "outputs": [],
   "source": [
    "import re\n",
    "\n",
    "string = re.search(r'([a-zA-Z0-9])\\1+', input().strip())\n",
    "#Search for all alphanumeric characters that repeats itself more than once.\n",
    "if string:\n",
    "    print(string.group(1))\n",
    "else:\n",
    "    print(-1)"
   ]
  },
  {
   "cell_type": "markdown",
   "id": "83095d6e-37f9-4282-ac3e-526aed649bf2",
   "metadata": {},
   "source": [
    "### Exercise 4 - Re.findall() & Re.finditer()"
   ]
  },
  {
   "cell_type": "code",
   "execution_count": null,
   "id": "3b34325a-9368-4fc1-ad8d-d7643620495c",
   "metadata": {},
   "outputs": [],
   "source": [
    "import re\n",
    "\n",
    "vowels = 'AEIOUaeiou'\n",
    "consonants = 'QWRTYPSDFGHJKLZXCVBNMqwrtypsdfghjklzxcvbnm'\n",
    "\n",
    "s = re.findall(r'(?<=['+consonants+'])(['+vowels+']{2,})(?=['+consonants+'])', input())\n",
    "print('\\n'.join(s or ['-1']))"
   ]
  },
  {
   "cell_type": "markdown",
   "id": "c89d239c-b3cb-4500-8715-7fdd54d3972f",
   "metadata": {},
   "source": [
    "### Exercise 5 - Re.start() & Re.end()"
   ]
  },
  {
   "cell_type": "code",
   "execution_count": null,
   "id": "00d403d2-bc3d-4ba0-9a3c-a964984425ea",
   "metadata": {},
   "outputs": [],
   "source": [
    "import re\n",
    "\n",
    "S = input()\n",
    "k = input()\n",
    "m = re.search(k, S)\n",
    "p = re.compile(k)\n",
    "\n",
    "if not m:\n",
    "    print('(-1, -1)')\n",
    "while m:\n",
    "    print('({0}, {1})'.format(m.start(), m.end()-1))\n",
    "    m = p.search(S, m.start()+1)\n",
    "\n",
    "#Taken from the discussion"
   ]
  },
  {
   "cell_type": "markdown",
   "id": "26b141b4-8d3e-49e1-88f6-938f1c0eb000",
   "metadata": {},
   "source": [
    "### Exercise 6 - Regex Substitution"
   ]
  },
  {
   "cell_type": "code",
   "execution_count": null,
   "id": "f171a630-4fb7-4c8f-a760-d2352e1e3208",
   "metadata": {},
   "outputs": [],
   "source": [
    "N = int(input())\n",
    "\n",
    "for _ in range(N):\n",
    "    line = input()\n",
    "    \n",
    "    while ' && ' in line or ' || ' in line:\n",
    "        line = line.replace(\" && \", \" and \").replace(\" || \", \" or \")\n",
    "    print(line)"
   ]
  },
  {
   "cell_type": "markdown",
   "id": "02ce6943-624e-4af2-9bfe-c876a0f96cd6",
   "metadata": {},
   "source": [
    "### Exercise 7 - Validating Roman Numerals"
   ]
  },
  {
   "cell_type": "code",
   "execution_count": null,
   "id": "ee2c4dc7-935d-4a51-b326-84258f5620ed",
   "metadata": {},
   "outputs": [],
   "source": [
    "#Taken from the discussions and from the web\n",
    "m = 'M{0,3}'\n",
    "c = '(C[MD]|D?C{0,3})'\n",
    "d = '(X[CL]|L?X{0,3})'\n",
    "u = '(I[VX]|V?I{0,3})'\n",
    "\n",
    "regex_pattern = r\"%s%s%s%s$\" % (m, c, d, u)\n",
    "\n",
    "import re\n",
    "print(str(bool(re.match(regex_pattern, input()))))"
   ]
  },
  {
   "cell_type": "markdown",
   "id": "062b2280-9367-4d84-a17a-3b562d059e3d",
   "metadata": {},
   "source": [
    "### Exercise 8 - Validating Phone Numbers"
   ]
  },
  {
   "cell_type": "code",
   "execution_count": null,
   "id": "16054421-0e9c-434a-bea3-0163305713e0",
   "metadata": {},
   "outputs": [],
   "source": [
    "import re\n",
    "\n",
    "N = int(input())\n",
    "\n",
    "for _ in range(N):\n",
    "    number = input()\n",
    "    if re.match(r'[789]\\d{9}$', number):\n",
    "        #starts with 7, 8, 9\n",
    "        #followed by any decimal digit for 9 times\n",
    "        print('YES')\n",
    "    else:\n",
    "        print('NO')"
   ]
  },
  {
   "cell_type": "markdown",
   "id": "6f6215b1-3235-4d48-a03a-18e719464226",
   "metadata": {},
   "source": [
    "### Exercise 9 - Validating and Parsing Email Addresses"
   ]
  },
  {
   "cell_type": "code",
   "execution_count": null,
   "id": "8325e5ae-e9b8-4068-a909-fd3032ac932b",
   "metadata": {},
   "outputs": [],
   "source": [
    "import re\n",
    "\n",
    "n = int(input())\n",
    "for _ in range(n):\n",
    "    name, email = input().split()\n",
    "    m = re.match(r'<[A-Za-z](\\w|-|\\.|_)+@[A-Za-z]+\\.[A-Za-z]{1,3}>', email)\n",
    "    if m:\n",
    "        print(name, email)"
   ]
  },
  {
   "cell_type": "markdown",
   "id": "6686606c-352e-4579-8abf-15e3db669863",
   "metadata": {},
   "source": [
    "### Exercise 10 - Hex Color Code"
   ]
  },
  {
   "cell_type": "code",
   "execution_count": null,
   "id": "57bed431-7b30-449e-9a08-7f6be8a54597",
   "metadata": {},
   "outputs": [],
   "source": [
    "import re\n",
    "\n",
    "n = int(input())\n",
    "\n",
    "for _ in range(n):\n",
    "    lines = input()\n",
    "    m = re.findall(r':?.(#[0-9A-Fa-f]{6}|#[0-9A-Fa-f]{3})', lines)\n",
    "    if m:\n",
    "        print(*m, sep = '\\n')"
   ]
  },
  {
   "cell_type": "markdown",
   "id": "d7b18f05-931c-4758-a4c7-5401d6efd40f",
   "metadata": {},
   "source": [
    "### Exercise 11 - HTML Parser - Part 1"
   ]
  },
  {
   "cell_type": "code",
   "execution_count": null,
   "id": "03a6a0af-3ca2-4167-aaa2-a030e3de660c",
   "metadata": {},
   "outputs": [],
   "source": [
    "from html.parser import HTMLParser\n",
    "\n",
    "#create a subclass and override the handler methods\n",
    "class MyHTMLParser(HTMLParser):\n",
    "    def handle_starttag(self, tag, attrs):\n",
    "        print(\"Start :\", tag)\n",
    "        for attr in attrs:\n",
    "            print('->', attr[0], '>', attr[1])\n",
    "    def handle_endtag(self, tag):\n",
    "        print(\"End   :\", tag)\n",
    "    def handle_startendtag(self, tag, attrs):\n",
    "        print(\"Empty :\", tag)\n",
    "        for attr in attrs:\n",
    "            print('->', attr[0], '>', attr[1])\n",
    "            \n",
    "n = int(input())\n",
    "\n",
    "#instantiate the parser and fed it with some HTML code\n",
    "parser = MyHTMLParser()\n",
    "parser.feed(''.join([input().strip() for _ in range(n)]))\n",
    "#These last two lines are taken from the discussion,\n",
    "#I didn't use list comprehension and HackerRank gave me error with 3 test cases."
   ]
  },
  {
   "cell_type": "markdown",
   "id": "442a5d30-452b-40d4-8042-b3c2dca47ff6",
   "metadata": {},
   "source": [
    "### Exercise 12 - HTML Parser - Part 2"
   ]
  },
  {
   "cell_type": "code",
   "execution_count": null,
   "id": "31e96228-0971-4836-b30b-d00ebbfff0d0",
   "metadata": {},
   "outputs": [],
   "source": [
    "from html.parser import HTMLParser\n",
    "\n",
    "class MyHTMLParser(HTMLParser):\n",
    "    def handle_comment(self, data):\n",
    "        if '\\n' in data:\n",
    "            print('>>> Multi-line Comment', '\\n' + data)\n",
    "        else:\n",
    "            print('>>> Single-line Comment', '\\n' + data)\n",
    "    def handle_data(self, data):\n",
    "        if data != '\\n':\n",
    "            print('>>> Data', '\\n' + data)\n",
    "\n",
    "html = \"\"       \n",
    "for i in range(int(input())):\n",
    "    html += input().rstrip()\n",
    "    html += '\\n'\n",
    "    \n",
    "parser = MyHTMLParser()\n",
    "parser.feed(html)\n",
    "parser.close()"
   ]
  },
  {
   "cell_type": "markdown",
   "id": "84bc3014-ce76-4fee-9745-afedb6fccd52",
   "metadata": {},
   "source": [
    "### Exercise 13 - Detect HTML Tags, Attributes and Attribute Values"
   ]
  },
  {
   "cell_type": "code",
   "execution_count": null,
   "id": "a403a820-783a-49ff-82d2-3860edd6afdc",
   "metadata": {},
   "outputs": [],
   "source": [
    "from html.parser import HTMLParser\n",
    "\n",
    "class MyHTMLDetecter(HTMLParser):\n",
    "    def handle_starttag(self, tag, attrs):\n",
    "        print(tag)\n",
    "        l = [attr for attr in attrs]\n",
    "        if len(l) > 0:\n",
    "            for i in l:\n",
    "                print('->', i[0], '>', i[1])\n",
    "\n",
    "    def handle_startendtag(self, tag, attrs):\n",
    "        print(tag)\n",
    "        a = [attr for attr in attrs]\n",
    "        if len(a) > 0:\n",
    "            for i in a:\n",
    "                print('->', i[0], '>', i[1])\n",
    "    \n",
    "n = int(input())\n",
    "parser = MyHTMLDetecter()\n",
    "parser.feed(''.join([input().strip() for _ in range(n)]))"
   ]
  },
  {
   "cell_type": "markdown",
   "id": "747c8cf4-e573-450d-91bf-ba08f4d1cfaf",
   "metadata": {},
   "source": [
    "### Exercise 14 - Validating UID"
   ]
  },
  {
   "cell_type": "code",
   "execution_count": null,
   "id": "3dfab8b9-a922-4f87-aad5-684554edc381",
   "metadata": {},
   "outputs": [],
   "source": [
    "import re\n",
    "\n",
    "T = int(input())\n",
    "\n",
    "for _ in range(T):\n",
    "    uid = input()\n",
    "    if re.match(r'^(?!.*(.).*\\1)(?=(?:.*[A-Z]){2,})(?=(?:.*\\d){3,})[A-Za-z0-9]{10}$', uid):\n",
    "        # -- (?!.*(.).*\\1) --> no repeating characters\n",
    "        # -- (?=(?:.*[A-Z]){2,}) --> at least 2 uppercase\n",
    "        # -- (?=(?:.*\\d){3,}) --> at least 3 digits\n",
    "        # -- [A-Za-z0-9]{10}$ --> formed by 10 alphanumeric characters\n",
    "        print('Valid')\n",
    "    else:\n",
    "        print('Invalid')"
   ]
  },
  {
   "cell_type": "markdown",
   "id": "4ac318fc-1b55-4c18-9bba-1251885e1a4f",
   "metadata": {},
   "source": [
    "### Exercise 15 - Validating Credit Card Numbers"
   ]
  },
  {
   "cell_type": "code",
   "execution_count": null,
   "id": "877a19d4-377f-4fef-881b-763541ef821a",
   "metadata": {},
   "outputs": [],
   "source": [
    "import re\n",
    "\n",
    "T = int(input())\n",
    "\n",
    "for _ in range(T):\n",
    "    cc = input()\n",
    "    if re.match(r'^[456]([\\d]{15}|[\\d]{3}(-[\\d]{4}){3})$', cc) and not re.search(r'([\\d])\\1\\1\\1', cc.replace('-', '')):\n",
    "        # -- [456] --> starts with 4, 5 or 6\n",
    "        # -- ([\\d]{15}|[\\d]{3}(-[\\d]{4}){3}) --> other 15 digits, given 3 more and 3 times 4 digits preceded by -\n",
    "        # -- ([\\d])\\1\\1\\1 --> not repeat 4 times the same digit\n",
    "        # -- replace('-', '') --> use only - as separator\n",
    "        print('Valid')\n",
    "    else:\n",
    "        print('Invalid')"
   ]
  },
  {
   "cell_type": "markdown",
   "id": "fe191dc5-5349-4fea-b394-efdb19246279",
   "metadata": {},
   "source": [
    "### Exercise 16 - Validating Postal Code"
   ]
  },
  {
   "cell_type": "code",
   "execution_count": null,
   "id": "9bf1e0fb-cf7a-4fed-a5f4-e89a17e45d61",
   "metadata": {},
   "outputs": [],
   "source": [
    "regex_integer_in_range = r\"^[1-9]([\\d]{5})$\" # The first digit is 1-9, the other five are 0-9\n",
    "regex_alternating_repetitive_digit_pair = r\"(\\d)(?=.\\1)\" # Check for every digit followed by something and then by the same digit.\n",
    "\n",
    "\n",
    "import re\n",
    "P = input()\n",
    "\n",
    "print (bool(re.match(regex_integer_in_range, P)) \n",
    "and len(re.findall(regex_alternating_repetitive_digit_pair, P)) < 2)"
   ]
  },
  {
   "cell_type": "markdown",
   "id": "b35bf099-b9d8-4ca9-a955-1c3c7dc94671",
   "metadata": {},
   "source": [
    "### Exercise 17 - Matrix Script"
   ]
  },
  {
   "cell_type": "code",
   "execution_count": null,
   "id": "50d79d7e-8700-40ee-aa6d-d4a4fb142e1f",
   "metadata": {},
   "outputs": [],
   "source": [
    "#!/bin/python3\n",
    "\n",
    "import math\n",
    "import os\n",
    "import random\n",
    "import re\n",
    "import sys\n",
    "\n",
    "first_multiple_input = input().rstrip().split()\n",
    "n = int(first_multiple_input[0])\n",
    "m = int(first_multiple_input[1])\n",
    "matrix = []\n",
    "t = ''\n",
    "\n",
    "for _ in range(n):\n",
    "    matrix_item = input()\n",
    "    matrix.append(matrix_item)\n",
    "\n",
    "for l in zip(*matrix):\n",
    "    t += ''.join(l)\n",
    "\n",
    "print(re.sub(r'(?<=\\w)([^\\w]+)(?=\\w)', ' ', t))\n",
    "'''\n",
    "Substitute one or more non alphabetical character,\n",
    "preceded and followed by an alphabetical character,\n",
    "with a ' '.\n",
    "'''"
   ]
  },
  {
   "cell_type": "markdown",
   "id": "f2da3209-08d3-43b6-a451-3a89f369c59c",
   "metadata": {},
   "source": [
    "# XML"
   ]
  },
  {
   "cell_type": "markdown",
   "id": "f751ccdd-128c-4130-a4f3-ab83fe2862c7",
   "metadata": {},
   "source": [
    "### Exercise 1 - XML 1 - Find the Score"
   ]
  },
  {
   "cell_type": "code",
   "execution_count": null,
   "id": "ce711554-9de5-475b-926e-d273125c188d",
   "metadata": {},
   "outputs": [],
   "source": [
    "import sys\n",
    "import xml.etree.ElementTree as etree\n",
    "\n",
    "def get_attr_number(node):\n",
    "    l = []\n",
    "    for i in node.iter():\n",
    "        l.append(len(i.attrib))\n",
    "    return sum(l)\n",
    "\n",
    "if __name__ == '__main__':\n",
    "    sys.stdin.readline()\n",
    "    xml = sys.stdin.read()\n",
    "    tree = etree.ElementTree(etree.fromstring(xml))\n",
    "    root = tree.getroot()\n",
    "    print(get_attr_number(root))"
   ]
  },
  {
   "cell_type": "markdown",
   "id": "c3026e90-57e3-4acc-a67e-027d205aa1b1",
   "metadata": {},
   "source": [
    "### Exercise 2 - XML2 - Find the Maximum Depth"
   ]
  },
  {
   "cell_type": "code",
   "execution_count": null,
   "id": "5e04b917-1148-455a-b553-56339cab65cb",
   "metadata": {},
   "outputs": [],
   "source": [
    "import xml.etree.ElementTree as etree\n",
    "\n",
    "maxdepth = 0\n",
    "def depth(elem, level):\n",
    "    global maxdepth\n",
    "    level += 1\n",
    "    if level >= maxdepth:\n",
    "        maxdepth = level\n",
    "    for i in elem:\n",
    "        depth(i, level)\n",
    "\n",
    "if __name__ == '__main__':\n",
    "    n = int(input())\n",
    "    xml = \"\"\n",
    "    for i in range(n):\n",
    "        xml =  xml + input() + \"\\n\"\n",
    "    tree = etree.ElementTree(etree.fromstring(xml))\n",
    "    depth(tree.getroot(), -1)\n",
    "    print(maxdepth)\n",
    "#Taken from the discussion"
   ]
  },
  {
   "cell_type": "markdown",
   "id": "eb53d377-7463-4356-aa9b-f10a1c94dcc9",
   "metadata": {},
   "source": [
    "# Closures and Decorations"
   ]
  },
  {
   "cell_type": "markdown",
   "id": "da175984-2eec-4428-99e4-ba46d240844b",
   "metadata": {},
   "source": [
    "### Exercise 1 - Standardize Mobile Number Using Decorators"
   ]
  },
  {
   "cell_type": "code",
   "execution_count": null,
   "id": "3f3910e7-c95d-4b29-a5be-632af8e90b96",
   "metadata": {},
   "outputs": [],
   "source": [
    "def wrapper(f):\n",
    "    def fun(l):\n",
    "        f(['+91 ' + n[-10:-5] + ' ' + n[-5:] for n in l])\n",
    "    return fun \n",
    "\n",
    "@wrapper\n",
    "def sort_phone(l):\n",
    "    print(*sorted(l), sep='\\n')\n",
    "\n",
    "if __name__ == '__main__':\n",
    "    l = [input() for _ in range(int(input()))]\n",
    "    sort_phone(l) "
   ]
  },
  {
   "cell_type": "markdown",
   "id": "051326f0-8635-457d-ae62-0b5f5c41311e",
   "metadata": {},
   "source": [
    "### Exercise 2 - Decorators 2 - Name Directory"
   ]
  },
  {
   "cell_type": "code",
   "execution_count": null,
   "id": "d56c0eae-52d8-4a4b-a9e9-4cbab08c518c",
   "metadata": {},
   "outputs": [],
   "source": [
    "import operator\n",
    "\n",
    "def person_lister(f):\n",
    "    def inner(people):\n",
    "        return map(f, sorted(people, key = lambda x: int(x[2])))\n",
    "    return inner\n",
    "\n",
    "@person_lister\n",
    "def name_format(person):\n",
    "    return (\"Mr. \" if person[3] == \"M\" else \"Ms. \") + person[0] + \" \" + person[1]\n",
    "\n",
    "if __name__ == '__main__':\n",
    "    people = [input().split() for i in range(int(input()))]\n",
    "    print(*name_format(people), sep='\\n')"
   ]
  },
  {
   "cell_type": "markdown",
   "id": "aeb0ef7c-101e-4d7f-9bfb-e5aac0698dd2",
   "metadata": {},
   "source": [
    "# Numpy"
   ]
  },
  {
   "cell_type": "markdown",
   "id": "9c5c608b-d1ed-4fdc-b96c-4de8ea0db5e6",
   "metadata": {},
   "source": [
    "### Exercise 1 - Arrays"
   ]
  },
  {
   "cell_type": "code",
   "execution_count": null,
   "id": "326976e0-8c83-46e0-8b7f-ac0b6d6ecadd",
   "metadata": {},
   "outputs": [],
   "source": [
    "def arrays(arr):\n",
    "    a = numpy.array((arr)[::-1], float)\n",
    "    return a\n",
    "\n",
    "arr = input().strip().split(' ')\n",
    "result = arrays(arr)\n",
    "print(result)"
   ]
  },
  {
   "cell_type": "markdown",
   "id": "368c7124-d483-4383-85c7-9c7c7c75dad1",
   "metadata": {},
   "source": [
    "### Exercise 2 - Shape and Reshape"
   ]
  },
  {
   "cell_type": "code",
   "execution_count": null,
   "id": "8a9ffc9c-a952-4be1-a412-c471cec8a3b5",
   "metadata": {},
   "outputs": [],
   "source": [
    "import numpy as np\n",
    "\n",
    "arr = input().strip().split(' ')\n",
    "a = np.array(arr, int)\n",
    "print(np.reshape(a, (3,3)))"
   ]
  },
  {
   "cell_type": "markdown",
   "id": "02cfffcf-df34-48d2-a24e-d907ef56519d",
   "metadata": {},
   "source": [
    "### Exercise 3 - Transpose and Flatten"
   ]
  },
  {
   "cell_type": "code",
   "execution_count": null,
   "id": "595e0712-a2ce-4920-8de1-7e01de5c62f0",
   "metadata": {},
   "outputs": [],
   "source": [
    "import numpy as np\n",
    "\n",
    "n, m = input().split()\n",
    "arr = []\n",
    "\n",
    "for i in range(int(n)):\n",
    "    arr.append(input().split())\n",
    "\n",
    "my_arr = np.array(arr, int)\n",
    "print(np.transpose(my_arr))\n",
    "print(my_arr.flatten())"
   ]
  },
  {
   "cell_type": "markdown",
   "id": "01c56d0f-27f3-4e7c-bf4c-21722ea335c3",
   "metadata": {},
   "source": [
    "### Exercise 4 - Concatenate"
   ]
  },
  {
   "cell_type": "code",
   "execution_count": null,
   "id": "b429d4b3-c3e4-49be-8981-d6b502c62bc1",
   "metadata": {},
   "outputs": [],
   "source": [
    "import numpy as np\n",
    "\n",
    "n, m, p = input().split()\n",
    "\n",
    "arr1 = []\n",
    "for _ in range(int(n)):\n",
    "    arr1.append(input().split())\n",
    "    \n",
    "arr2 = []\n",
    "for _ in range(int(m)):\n",
    "    arr2.append(input().split())\n",
    "\n",
    "\n",
    "print(np.concatenate((np.array(arr1, int), np.array(arr2, int))))"
   ]
  },
  {
   "cell_type": "markdown",
   "id": "27e522b4-ab8d-4cf4-9609-a88099d281fe",
   "metadata": {},
   "source": [
    "### Exercise 5 - Zeros and Ones"
   ]
  },
  {
   "cell_type": "code",
   "execution_count": null,
   "id": "409564f8-2cf3-47ad-98c2-4a73148352c5",
   "metadata": {},
   "outputs": [],
   "source": [
    "import numpy as np\n",
    "\n",
    "shape = tuple(map(int, input().split()))\n",
    "\n",
    "print(np.zeros((shape), dtype = int))\n",
    "print(np.ones((shape), dtype = int))"
   ]
  },
  {
   "cell_type": "markdown",
   "id": "dfc924bd-6d67-4202-8928-9d6f73444c8a",
   "metadata": {},
   "source": [
    "### Exercise 6 - Eye and Identity"
   ]
  },
  {
   "cell_type": "code",
   "execution_count": null,
   "id": "e8a1110d-a205-42ee-88df-a3a7627eb565",
   "metadata": {},
   "outputs": [],
   "source": [
    "import numpy as np\n",
    "np.set_printoptions(legacy='1.13')\n",
    "\n",
    "size = list(map(int, input().split()))\n",
    "\n",
    "if size[0] == size[1]:\n",
    "    print(np.identity(size[0]))\n",
    "else:\n",
    "    print(np.eye(size[0], size[1], k=0))"
   ]
  },
  {
   "cell_type": "markdown",
   "id": "7bba4d4a-5135-455d-9580-2fa4606759d7",
   "metadata": {},
   "source": [
    "### Exercise 7 - Array Mathematics"
   ]
  },
  {
   "cell_type": "code",
   "execution_count": null,
   "id": "2a8f8f1f-7408-46e7-bbd3-7917bc324789",
   "metadata": {},
   "outputs": [],
   "source": [
    "import numpy as np\n",
    "\n",
    "n, m = input().split()\n",
    "a = np.array([input().split() for _ in range(int(n))], int)\n",
    "b = np.array([input().split() for _ in range(int(n))], int)\n",
    "\n",
    "print(np.add(a, b))\n",
    "print(np.subtract(a, b))\n",
    "print(np.multiply(a, b))\n",
    "print(np.floor_divide(a, b))\n",
    "print(np.mod(a, b))\n",
    "print(np.power(a, b))"
   ]
  },
  {
   "cell_type": "markdown",
   "id": "49942087-7c3a-42de-920c-93bbd445631e",
   "metadata": {},
   "source": [
    "### Exercise 8 - Floor, Ceil and Rint"
   ]
  },
  {
   "cell_type": "code",
   "execution_count": null,
   "id": "55d56246-9b0c-4d28-9f8f-25ce5f890118",
   "metadata": {},
   "outputs": [],
   "source": [
    "import numpy as np\n",
    "np.set_printoptions(legacy='1.13')\n",
    "\n",
    "arr = np.array(input().split(), float)\n",
    "\n",
    "print(np.floor(arr))\n",
    "print(np.ceil(arr))\n",
    "print(np.rint(arr))"
   ]
  },
  {
   "cell_type": "markdown",
   "id": "acc1a72c-217a-44e6-8e52-8faae4154646",
   "metadata": {},
   "source": [
    "### Exercise 9 - Sum and Prod"
   ]
  },
  {
   "cell_type": "code",
   "execution_count": null,
   "id": "535a2a68-70c1-470b-a475-3c9214e26a79",
   "metadata": {},
   "outputs": [],
   "source": [
    "import numpy as np\n",
    "\n",
    "n, m = map(int, input().split())\n",
    "\n",
    "my_arr = np.array([input().split() for _ in range(n)], int)\n",
    "s = np.sum((my_arr), axis=0)\n",
    "print(np.prod(s))"
   ]
  },
  {
   "cell_type": "markdown",
   "id": "db3e0fd4-a0e6-4f1d-86fc-fd5034c1985b",
   "metadata": {},
   "source": [
    "### Exercise 10 - Min and Max"
   ]
  },
  {
   "cell_type": "code",
   "execution_count": null,
   "id": "2b2bb788-ad17-40eb-8275-7be9cac86d75",
   "metadata": {},
   "outputs": [],
   "source": [
    "import numpy as np\n",
    "\n",
    "n, m = map(int, input().split())\n",
    "\n",
    "my_arr = np.array([input().split() for _ in range(n)], int)\n",
    "m = np.min((my_arr), axis=1)\n",
    "print(np.max(m))"
   ]
  },
  {
   "cell_type": "markdown",
   "id": "2597a30a-04d1-4449-93c3-e911bf3fd258",
   "metadata": {},
   "source": [
    "### Exercise 11 - Mean, Var, and Std"
   ]
  },
  {
   "cell_type": "code",
   "execution_count": null,
   "id": "10628b4f-d85d-4e27-8c69-1f60b93d7e63",
   "metadata": {},
   "outputs": [],
   "source": [
    "import numpy as np\n",
    "#np.set_printoptions(legacy='1.13')\n",
    "\n",
    "n, m = map(int, input().split())\n",
    "\n",
    "arr = np.array([input().split() for _ in range(n)], int)\n",
    "\n",
    "print(np.mean(arr, axis=1))\n",
    "print(np.var(arr, axis=0))\n",
    "print(round(np.std(arr), 11))"
   ]
  },
  {
   "cell_type": "markdown",
   "id": "d51f55cc-8e46-45cc-921f-6d4e880a42a5",
   "metadata": {},
   "source": [
    "### Exercise 12 - Dot and Cross"
   ]
  },
  {
   "cell_type": "code",
   "execution_count": null,
   "id": "645c48fe-e2aa-49eb-b229-070936d6884a",
   "metadata": {},
   "outputs": [],
   "source": [
    "import numpy as np\n",
    "\n",
    "n = int(input())\n",
    "a = np.array([input().split() for _ in range(n)], int)\n",
    "b = np.array([input().split() for _ in range(n)], int)\n",
    "\n",
    "print(np.dot(a, b))"
   ]
  },
  {
   "cell_type": "markdown",
   "id": "89a4e875-8454-4cd3-a7aa-38e50168ac38",
   "metadata": {},
   "source": [
    "### Exercise 13 - Inner and Outer"
   ]
  },
  {
   "cell_type": "code",
   "execution_count": null,
   "id": "9c199fc0-350c-4049-8888-7e9a6d809087",
   "metadata": {},
   "outputs": [],
   "source": [
    "import numpy as np\n",
    "\n",
    "a = np.array(input().split(), int)\n",
    "b = np.array(input().split(), int)\n",
    "\n",
    "print(np.inner(a, b))\n",
    "print(np.outer(a, b))"
   ]
  },
  {
   "cell_type": "markdown",
   "id": "12aa20bf-5f39-4cce-963d-dcb678851ef6",
   "metadata": {},
   "source": [
    "### Exercise 14 - Polynomials"
   ]
  },
  {
   "cell_type": "code",
   "execution_count": null,
   "id": "f871e53c-6060-46f2-9628-b4955b4bee68",
   "metadata": {},
   "outputs": [],
   "source": [
    "import numpy as np\n",
    "\n",
    "p = np.array(input().split(), float)\n",
    "print(np.polyval(p, float(input())))"
   ]
  },
  {
   "cell_type": "markdown",
   "id": "50298d90-b2d3-42bb-818b-8df3f483e26c",
   "metadata": {},
   "source": [
    "### Exercise 15 - Linear Algebra"
   ]
  },
  {
   "cell_type": "code",
   "execution_count": null,
   "id": "f7c79602-d0df-499c-85d6-0d51fd4d0123",
   "metadata": {},
   "outputs": [],
   "source": [
    "import numpy as np\n",
    "\n",
    "n = int(input())\n",
    "m = np.array([input().split() for _ in range(n)], float)\n",
    "\n",
    "print(round(np.linalg.det(m), 2))"
   ]
  }
 ],
 "metadata": {
  "kernelspec": {
   "display_name": "Python 3",
   "language": "python",
   "name": "python3"
  },
  "language_info": {
   "codemirror_mode": {
    "name": "ipython",
    "version": 3
   },
   "file_extension": ".py",
   "mimetype": "text/x-python",
   "name": "python",
   "nbconvert_exporter": "python",
   "pygments_lexer": "ipython3",
   "version": "3.8.8"
  }
 },
 "nbformat": 4,
 "nbformat_minor": 5
}
